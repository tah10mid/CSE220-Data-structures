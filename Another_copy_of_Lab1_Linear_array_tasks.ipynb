{
  "cells": [
    {
      "cell_type": "markdown",
      "metadata": {
        "id": "view-in-github",
        "colab_type": "text"
      },
      "source": [
        "<a href=\"https://colab.research.google.com/github/tah10mid/CSE220-Data-structures/blob/main/Another_copy_of_Lab1_Linear_array_tasks.ipynb\" target=\"_parent\"><img src=\"https://colab.research.google.com/assets/colab-badge.svg\" alt=\"Open In Colab\"/></a>"
      ]
    },
    {
      "cell_type": "markdown",
      "metadata": {
        "id": "YLpnDfK4egmI"
      },
      "source": [
        "**Instructions to Follow (Failing to follow these will result mark deductions).**\n",
        "1. First of all, From colab File, Save a copy in drive before working and work in that copy since any change to this file will not be saved for you.\n",
        "2. You can not use any built-in function except len()\n",
        "\n",
        "3. You can not use any other python collections except array (e.g: tuple, dictionaries etc.).\n",
        "\n",
        "4. We will initialize a new array using numpy library. We have to mention the fixed size during initialization. There might be 4 approaches.\n",
        "\n",
        " i. arr = np.array([None] * 10) #Initializing an array length 10 with values None.\n",
        "\n",
        " ii. arr = np.array([0] * 10) #Initializing an array length 10 with values zero.\n",
        "\n",
        " iii. arr = np.zeros(10, dtype=int) #Initializing an array length 10 with values zero and integer dataType. By default, dtype is float.\n",
        "\n",
        " iv. arr = np.array([10, 20, 30, 40]) #Initializing an array length 4 with the values.\n",
        "\n"
      ]
    },
    {
      "cell_type": "code",
      "execution_count": 1,
      "metadata": {
        "colab": {
          "base_uri": "https://localhost:8080/"
        },
        "id": "rSkZFFD4ej5o",
        "outputId": "c2c891af-9de4-470f-91f1-939c19bd27ff"
      },
      "outputs": [
        {
          "output_type": "stream",
          "name": "stdout",
          "text": [
            "Collecting fhm-unittest\n",
            "  Downloading fhm_unittest-1.0.1-py3-none-any.whl (2.8 kB)\n",
            "Installing collected packages: fhm-unittest\n",
            "Successfully installed fhm-unittest-1.0.1\n",
            "Collecting fuzzywuzzy\n",
            "  Downloading fuzzywuzzy-0.18.0-py2.py3-none-any.whl (18 kB)\n",
            "Installing collected packages: fuzzywuzzy\n",
            "Successfully installed fuzzywuzzy-0.18.0\n"
          ]
        },
        {
          "output_type": "stream",
          "name": "stderr",
          "text": [
            "/usr/local/lib/python3.10/dist-packages/fuzzywuzzy/fuzz.py:11: UserWarning: Using slow pure-python SequenceMatcher. Install python-Levenshtein to remove this warning\n",
            "  warnings.warn('Using slow pure-python SequenceMatcher. Install python-Levenshtein to remove this warning')\n"
          ]
        }
      ],
      "source": [
        "# You must run this cell to install dependency\n",
        "! pip3 install fhm-unittest\n",
        "! pip3 install fuzzywuzzy\n",
        "import fhm_unittest as unittest\n",
        "import numpy as np"
      ]
    },
    {
      "cell_type": "code",
      "execution_count": null,
      "metadata": {
        "id": "jmbnwVOcyzBB"
      },
      "outputs": [],
      "source": []
    },
    {
      "cell_type": "markdown",
      "metadata": {
        "id": "z-BkkdfjgR6P"
      },
      "source": [
        "You will see the status Accepted after completion if your code is correct.\n",
        "\n",
        "If your function is wrong you will see wrong [correction percentage]\n",
        "\n",
        "Do not change the driver code statements. You can only change the input values to test your code."
      ]
    },
    {
      "cell_type": "code",
      "execution_count": null,
      "metadata": {
        "id": "ebuGnEPwttQ0"
      },
      "outputs": [],
      "source": [
        "#Assignment Part-2\n",
        "#Complete the following 4 methods(Mandatory) and one bonus(optional)task for part-2"
      ]
    },
    {
      "cell_type": "code",
      "execution_count": null,
      "metadata": {
        "colab": {
          "base_uri": "https://localhost:8080/"
        },
        "id": "ZVbY0rzKgRgC",
        "outputId": "7f75c204-9148-4b02-e422-25c6848fb961"
      },
      "outputs": [
        {
          "name": "stdout",
          "output_type": "stream",
          "text": [
            "///  Task 01: Merge Lineup  ///\n",
            "Task 1: [12  3 28 -8  5]\n",
            "Accepted\n",
            "Task 1: [ 4 17  6 27  2]\n",
            "Accepted\n"
          ]
        }
      ],
      "source": [
        "#Task 01: Merge Lineup\n",
        "def mergeLineup(pokemon_1, pokemon_2):\n",
        "  result = np.array([0]*len(pokemon_1))\n",
        "  for i in range(len(pokemon_1)):\n",
        "    if pokemon_1[i] is not None:\n",
        "      dbz1=pokemon_1[i]\n",
        "    else:\n",
        "      dbz1=0\n",
        "    if pokemon_2[len(pokemon_1)-1-i] is not None:\n",
        "      dbz2=pokemon_2[len(pokemon_1)-1-i]\n",
        "    else:\n",
        "      dbz2=0\n",
        "    result[i]=dbz1+dbz2\n",
        "  return result\n",
        "print(\"///  Task 01: Merge Lineup  ///\")\n",
        "pokemon_1 = np.array([12, 3, 25, 1, None])\n",
        "pokemon_2 = np.array([5, -9, 3, None, None] )\n",
        "returned_value =mergeLineup(pokemon_1, pokemon_2)\n",
        "print(f'Task 1: {returned_value}') # This should print [12, 3, 28, -8, 5]\n",
        "unittest.output_test(returned_value, np.array([12, 3, 28, -8, 5]))\n",
        "pokemon_1 = np.array([4, 5, -1, None, None])\n",
        "pokemon_2 = np.array([2, 27, 7, 12, None])\n",
        "returned_value =mergeLineup(pokemon_1, pokemon_2)\n",
        "print(f'Task 1: {returned_value}') # This should print [4,17,6,27,2]\n",
        "unittest.output_test(returned_value, np.array([4,17,6,27,2]))"
      ]
    },
    {
      "cell_type": "code",
      "execution_count": null,
      "metadata": {
        "colab": {
          "base_uri": "https://localhost:8080/"
        },
        "id": "rzaysRSshRbM",
        "outputId": "ba185469-9d23-4afd-8db1-9283cfba1278"
      },
      "outputs": [
        {
          "name": "stdout",
          "output_type": "stream",
          "text": [
            "///  Task 02: Discard Cards  ///\n",
            "Task 2: [1 3 7 5 2 2 0 0 0]\n",
            "Accepted\n",
            "Task 2: [5 0 0 0 0]\n",
            "Accepted\n"
          ]
        }
      ],
      "source": [
        "# Task 02: Discard Cards\n",
        "\n",
        "def discardCards(cards, t):\n",
        "  # TO DO\n",
        "   j=0\n",
        "   i=0\n",
        "   while i<len(cards):\n",
        "    if cards[i]==t:\n",
        "      if j%2==0:\n",
        "        for step in range(i+1,len(cards)):\n",
        "          cards[step-1]=cards[step]\n",
        "        cards[len(cards)-1]=0\n",
        "        i-=1\n",
        "\n",
        "      j+=1\n",
        "    i+=1\n",
        "   return cards\n",
        "\n",
        "\n",
        "\n",
        "\n",
        "\n",
        "print(\"///  Task 02: Discard Cards  ///\")\n",
        "cards = np.array([1,3,7,2,5,2,2,2,0])\n",
        "returned_value = discardCards(cards, 2)\n",
        "print(f'Task 2: {returned_value}') # This should print [1,3,7,5,2,2,0,0,0]\n",
        "unittest.output_test(returned_value, np.array([1,3,7,5,2,2,0,0,0]))\n",
        "\n",
        "cards = np.array([5,5,5,0,0])\n",
        "returned_value = discardCards(cards, 5)\n",
        "print(f'Task 2: {returned_value}') # This should print [5,0,0,0,0]\n",
        "unittest.output_test(returned_value, np.array([5,0,0,0,0]))"
      ]
    },
    {
      "cell_type": "code",
      "source": [
        "# Task 03: DUBER Fare Splitting\n",
        "def findGroups(money, fare):\n",
        "    step=0\n",
        "    for i in range(len(money)):\n",
        "        for j in range(i+1,len(money)):\n",
        "            if money[i]+money[j]==fare and money[i]!=0 and money[j]!=0:\n",
        "                step+=1\n",
        "                print(f\"Group {step} : {money[i]}, {money[j]}\")\n",
        "                money[i],money[j]=0,0\n",
        "                continue\n",
        "\n",
        "            elif money[j]==fare:\n",
        "                step+=1\n",
        "                print(f\"Group {step} : {money[j]}\")\n",
        "                money[j]=0\n",
        "                continue\n",
        "\n",
        "    new_array=np.array([0]*len(money))\n",
        "    k=0\n",
        "    for i in range(len(money)):\n",
        "     if money[i] != 0:\n",
        "      new_array[k] = money[i]\n",
        "      k+=1\n",
        "    new_Array=np.array([0]*k)\n",
        "    for i in range(k):\n",
        "      new_Array[i]=new_array[i]\n",
        "    if len(new_Array)>0:\n",
        "      print(\"Ungrouped : \",end=\"\")\n",
        "      for i in new_Array:\n",
        "       print(i,end=\" \")\n",
        "\n",
        "\n",
        "\n",
        "  # Print outputs inside the method\n",
        "\n",
        "print(\"///  Task 03: DUBER Fare Splitting  ///\")\n",
        "money = np.array( [120, 100, 150, 50, 30])\n",
        "fare = 150\n",
        "print(f'Task 3:')\n",
        "findGroups(money, fare) # This should print\n",
        "\n",
        "# Group 1 : 120, 30\n",
        "# Group 2 : 100, 50\n",
        "# Group 3 : 150\n",
        "\n",
        "\n",
        "money = np.array( [60, 150, 60, 30, 120, 30])\n",
        "fare = 180\n",
        "print(f'Task 3:')\n",
        "findGroups(money, fare) # This should print\n",
        "\n",
        "# Group 1 : 60, 120\n",
        "# Group 2 : 30, 150\n",
        "# Ungrouped : 30 60"
      ],
      "metadata": {
        "colab": {
          "base_uri": "https://localhost:8080/"
        },
        "id": "WLVkFCbKdkxo",
        "outputId": "0e94ae7d-5281-4b92-ad3b-ce05736c376e"
      },
      "execution_count": null,
      "outputs": [
        {
          "output_type": "stream",
          "name": "stdout",
          "text": [
            "///  Task 03: DUBER Fare Splitting  ///\n",
            "Task 3:\n",
            "Group 1 : 150\n",
            "Group 2 : 120, 30\n",
            "Group 3 : 100, 50\n",
            "Task 3:\n",
            "Group 1 : 60, 120\n",
            "Group 2 : 150, 30\n",
            "Ungrouped : 60 30 "
          ]
        }
      ]
    },
    {
      "cell_type": "code",
      "execution_count": 19,
      "metadata": {
        "id": "SzBe-ByVmV8G",
        "colab": {
          "base_uri": "https://localhost:8080/"
        },
        "outputId": "74ba723b-c0f2-43e0-cd3b-431ba8f54156"
      },
      "outputs": [
        {
          "output_type": "stream",
          "name": "stdout",
          "text": [
            "///  Task 04: Get Those Hobbies  ///\n",
            "Task 4:\n",
            "Unique Activities in the Town:\n",
            "['Hiking' 'Reading' 'Photography' 'Cooking' 'Painting']\n",
            "3 participant(s) like(s) Hiking.\n",
            "2 participant(s) like(s) Reading.\n",
            "2 participant(s) like(s) Photography.\n",
            "2 participant(s) like(s) Cooking.\n",
            "1 participant(s) like(s) Painting.\n",
            "Task 4:\n",
            "Unique Activities in the Town:\n",
            "['Gardening' 'Traveling' 'Singing' 'Painting']\n",
            "2 participant(s) like(s) Gardening.\n",
            "1 participant(s) like(s) Traveling.\n",
            "1 participant(s) like(s) Singing.\n",
            "1 participant(s) like(s) Painting.\n"
          ]
        }
      ],
      "source": [
        "def analyzeHobbies(* participants): #(* arguments) is used for variable number of parameters\n",
        "  #TO DO\n",
        "  length=0\n",
        "  for i in participants:\n",
        "    length+=len(i)\n",
        "  mergedArray=np.zeros(length,dtype=object)\n",
        "  index=0\n",
        "  for i in range(len(participants)):\n",
        "    for j in participants[i]:\n",
        "      mergedArray[index]=j\n",
        "      index+=1\n",
        "  uniqueArray=np.zeros(len(mergedArray),dtype=object)\n",
        "  for i in range(len(mergedArray)):\n",
        "    for j in range(len(uniqueArray)):\n",
        "      if uniqueArray[j]==0:\n",
        "        uniqueArray[j]=mergedArray[i]\n",
        "        break\n",
        "      elif uniqueArray[j]==mergedArray[i]:\n",
        "        break\n",
        "\n",
        "  k=0\n",
        "  for i in range(len(uniqueArray)):\n",
        "    if uniqueArray[i]!=0:\n",
        "      k+=1\n",
        "  new_array=np.zeros(k,dtype=object)\n",
        "  for i in range(k):\n",
        "    new_array[i]=uniqueArray[i]\n",
        "  print(f\"Unique Activities in the Town:\\n{new_array}\")\n",
        "  for i in new_array:\n",
        "    count=0\n",
        "    for j in mergedArray:\n",
        "      if i==j:\n",
        "       count+=1\n",
        "    print(f\"{count} participant(s) like(s) {i}.\")\n",
        "  #Print inside the function\n",
        "\n",
        "print(\"///  Task 04: Get Those Hobbies  ///\")\n",
        "participant_1 = np.array( [\"Hiking\", \"Reading\", \"Photography\", \"Cooking\"])\n",
        "participant_2 = np.array( [\"Reading\", \"Hiking\", \"Painting\"])\n",
        "participant_3 = np.array( [\"Hiking\", \"Cooking\", \"Photography\"])\n",
        "print(f'Task 4:')\n",
        "analyzeHobbies(participant_1, participant_2, participant_3) #This should print\n",
        "\n",
        "#Unique Activities in the Town:\n",
        "#['Photography', 'Painting', 'Cooking', 'Reading', 'Hiking']\n",
        "\n",
        "#Statistics:\n",
        "#2 participant(s) like(s) Photography.\n",
        "#1 participant(s) like(s) Painting.\n",
        "#2 participant(s) like(s) Cooking.\n",
        "#2 participant(s) like(s) Reading.\n",
        "#3 participant(s) like(s) Hiking.\n",
        "\n",
        "\n",
        "\n",
        "participant_1 = np.array( [\"Gardening\", \"Traveling\"])\n",
        "participant_2 = np.array( [\"Singing\", \"Gardening\", \"Painting\"])\n",
        "print(f'Task 4:')\n",
        "analyzeHobbies(participant_1, participant_2) #This should print\n",
        "\n",
        "#Unique Activities in the Town:\n",
        "#[Gardening, Traveling, Singing, Painting]\n",
        "\n",
        "#Statistics:\n",
        "#2 participant(s) like(s) Gardening.\n",
        "#1 participant(s) like(s) Traveling.\n",
        "#1 participant(s) like(s) Singing.\n",
        "#1 participant(s) like(s) Painting.\n"
      ]
    },
    {
      "cell_type": "code",
      "execution_count": null,
      "metadata": {
        "id": "Oi7AXojBEayT"
      },
      "outputs": [],
      "source": []
    },
    {
      "cell_type": "code",
      "execution_count": null,
      "metadata": {
        "id": "sTJ7GNezm6uu"
      },
      "outputs": [],
      "source": [
        "# Bonus Ungraded Task: Look and Say\n",
        "def look_and_say(arr):\n",
        "  #TO DO\n",
        "\n",
        "\n",
        "print(\"///  Bonus Task: Look and Say  ///\")\n",
        "arr = np.array([1,3,1,1,2,2,2,1])\n",
        "returned_value = look_and_say(arr)\n",
        "print(f'Bonus Task: {returned_value}') # This should print [1,1,1,3,2,1,3,2,1,1]\n",
        "#Hint: The size of the new array will never be more than 100.\n",
        "#[You need not worry about the extra zeroes at the end of your resulting array]\n"
      ]
    },
    {
      "cell_type": "markdown",
      "metadata": {
        "id": "_aSNgbn8nr17"
      },
      "source": [
        "For Assignment Part-1, you can create new code cells in the below and write your codes there. Also you should write driver codes to test your code for part-1."
      ]
    },
    {
      "cell_type": "code",
      "execution_count": null,
      "metadata": {
        "id": "CxJHbg7onWwN"
      },
      "outputs": [],
      "source": [
        "#Assignment Part-1\n",
        "#Write 3 methods and driver codes for this part."
      ]
    },
    {
      "cell_type": "code",
      "execution_count": null,
      "metadata": {
        "id": "s-dXmnPUuJqu",
        "colab": {
          "base_uri": "https://localhost:8080/"
        },
        "outputId": "eceac161-9828-49bf-f025-751477951a76"
      },
      "outputs": [
        {
          "output_type": "stream",
          "name": "stdout",
          "text": [
            "The mean of the numbers is:10.18\n"
          ]
        }
      ],
      "source": [
        "import numpy as np\n",
        "total=0\n",
        "mean=np.array([10, 8, 13, 9, 14, 25, -5, 20, 7, 7, 4])\n",
        "for i in mean:\n",
        "  total+=i\n",
        "mean1=round(total/len(mean),2)\n",
        "print(f\"The mean of the numbers is:{mean1}\")"
      ]
    },
    {
      "cell_type": "code",
      "execution_count": null,
      "metadata": {
        "id": "dPNvUeF70Ou-",
        "colab": {
          "base_uri": "https://localhost:8080/"
        },
        "outputId": "04b41170-30ce-4ebf-fc48-61ad49489645"
      },
      "outputs": [
        {
          "output_type": "stream",
          "name": "stdout",
          "text": [
            "7.96\n"
          ]
        }
      ],
      "source": [
        "import math\n",
        "total=0\n",
        "mean=np.array([10, 8, 13, 9, 14, 25, -5, 20, 7, 7, 4])\n",
        "for i in mean:\n",
        "  total+=i\n",
        "mean1=total/len(mean)\n",
        "\n",
        "sd1=0\n",
        "for j in mean:\n",
        "  val=(j-mean1)**2\n",
        "  sd1+=val\n",
        "\n",
        "mdffrnce=sd1/(len(mean)-1)\n",
        "ans=math.sqrt(mdffrnce)\n",
        "ans1=round(ans,2)\n",
        "print(ans1)"
      ]
    },
    {
      "cell_type": "code",
      "source": [
        "n=1.5*ans1\n",
        "min_v=mean1-n\n",
        "max_v=n+mean1\n",
        "c=0\n",
        "\n",
        "for i in range(mean.size):\n",
        "    if min_v>=mean[i] or mean[i]>=max_v:\n",
        "        c+=1\n",
        "\n",
        "arr2= np.zeros(c,dtype=int)\n",
        "\n",
        "c2=0\n",
        "for i in range(mean.size):\n",
        "    if min_v>=mean[i] or mean[i]>=max_v:\n",
        "        arr2[c2]=mean[i]\n",
        "        c2+=1\n",
        "\n",
        "print(f\"New array: {arr2}\")"
      ],
      "metadata": {
        "colab": {
          "base_uri": "https://localhost:8080/"
        },
        "id": "6vMb_tAUWKdD",
        "outputId": "0fb2d831-9ca1-494e-f971-52d6b36ff40b"
      },
      "execution_count": null,
      "outputs": [
        {
          "output_type": "stream",
          "name": "stdout",
          "text": [
            "New array: [25 -5]\n"
          ]
        }
      ]
    }
  ],
  "metadata": {
    "colab": {
      "provenance": [],
      "include_colab_link": true
    },
    "kernelspec": {
      "display_name": "Python 3",
      "name": "python3"
    },
    "language_info": {
      "name": "python"
    }
  },
  "nbformat": 4,
  "nbformat_minor": 0
}